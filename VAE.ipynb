{
  "nbformat": 4,
  "nbformat_minor": 0,
  "metadata": {
    "colab": {
      "name": "VAE.ipynb",
      "provenance": [],
      "collapsed_sections": [],
      "include_colab_link": true
    },
    "kernelspec": {
      "name": "python3",
      "display_name": "Python 3"
    },
    "accelerator": "GPU"
  },
  "cells": [
    {
      "cell_type": "markdown",
      "metadata": {
        "id": "view-in-github",
        "colab_type": "text"
      },
      "source": [
        "<a href=\"https://colab.research.google.com/github/sarmientoj24/EE298/blob/master/VAE.ipynb\" target=\"_parent\"><img src=\"https://colab.research.google.com/assets/colab-badge.svg\" alt=\"Open In Colab\"/></a>"
      ]
    },
    {
      "cell_type": "code",
      "metadata": {
        "id": "_wjy3eSsAgi_",
        "colab_type": "code",
        "colab": {}
      },
      "source": [
        "from keras.layers import Lambda, Input, Dense\n",
        "from keras.models import Model\n",
        "from keras.datasets import mnist\n",
        "from keras.losses import mse, binary_crossentropy\n",
        "from keras.utils import plot_model\n",
        "from keras import backend as K\n",
        "\n",
        "import numpy as np\n",
        "import matplotlib.pyplot as plt\n",
        "import os"
      ],
      "execution_count": 0,
      "outputs": []
    },
    {
      "cell_type": "code",
      "metadata": {
        "id": "LXjjzu61Cc9A",
        "colab_type": "code",
        "colab": {}
      },
      "source": [
        "# reparameterization trick\n",
        "# instead of sampling from Q(z|X), sample eps = N(0,I)\n",
        "# z = z_mean + sqrt(var)*eps\n",
        "def sampling(args):\n",
        "  z_mean, z_log_var = args\n",
        "  batch = K.shape(z_mean)[0]\n",
        "  dim = K.int_shape(z_mean)[1]\n",
        "  # by default, random_normal has mean=0 and std=1.0\n",
        "  epsilon = K.random_normal(shape=(batch, dim))\n",
        "  return z_mean + K.exp(0.5 * z_log_var) * epsilon\n",
        "\n",
        "\n",
        "# DISCRETE EPSILON for Code Generation\n",
        "# To Use:\n",
        "# Encoder's last layer should output z_mean, z_log_var, and possible z.\n",
        "# But on encoding dataset in Code Generation, we disregard z and use this function\n",
        "# to compute for a discrete z using z_mean and z_log_var\n",
        "def discrete_z_sampling(args)\n",
        "  z_mean, z_log_var, epsilon_discrete = args\n",
        "\n",
        "  return z_mean + K.exp(0.5 * z_log_var) * epsilon_discrete\n",
        "\n",
        "def randomly_sample_epsilon_discrete(dimension):\n",
        "  epsilon_discrete = K.random_normal(shape=(1, dimension))\n",
        "  print(\"Generating discrete epsilon...\")\n",
        "  print(epsilon_discrete)\n",
        "  return epsilon_discrete\n"
      ],
      "execution_count": 0,
      "outputs": []
    },
    {
      "cell_type": "code",
      "metadata": {
        "id": "2HeC6igzCyz1",
        "colab_type": "code",
        "colab": {}
      },
      "source": [
        "# Plotter functions here"
      ],
      "execution_count": 0,
      "outputs": []
    },
    {
      "cell_type": "code",
      "metadata": {
        "id": "uPN0BhEZC0IX",
        "colab_type": "code",
        "colab": {}
      },
      "source": [
        "# Implement VAE here\n",
        "\n",
        "class VAE():\n",
        "  pass\n",
        "\n",
        "  def save_encoder_to_h5(self):\n",
        "    pass\n",
        "  \n",
        "  def save_decoder_to_h5(self):\n",
        "    pass\n",
        "  \n",
        "  def save_vae_to_h5(self):\n",
        "    pass"
      ],
      "execution_count": 0,
      "outputs": []
    }
  ]
}