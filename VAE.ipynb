{
  "nbformat": 4,
  "nbformat_minor": 0,
  "metadata": {
    "colab": {
      "name": "VAE.ipynb",
      "provenance": [],
      "collapsed_sections": [],
      "include_colab_link": true
    },
    "kernelspec": {
      "name": "python3",
      "display_name": "Python 3"
    },
    "accelerator": "GPU"
  },
  "cells": [
    {
      "cell_type": "markdown",
      "metadata": {
        "id": "view-in-github",
        "colab_type": "text"
      },
      "source": [
        "<a href=\"https://colab.research.google.com/github/sarmientoj24/EE298/blob/master/VAE.ipynb\" target=\"_parent\"><img src=\"https://colab.research.google.com/assets/colab-badge.svg\" alt=\"Open In Colab\"/></a>"
      ]
    },
    {
      "cell_type": "code",
      "metadata": {
        "id": "_wjy3eSsAgi_",
        "colab_type": "code",
        "colab": {
          "base_uri": "https://localhost:8080/",
          "height": 54
        },
        "outputId": "3a8dcbcd-0d04-4b83-bd46-c2ab7d934dc7"
      },
      "source": [
        "from keras.layers import Lambda, Input, Dense, BatchNormalization, LeakyReLU, GlobalAveragePooling2D, Activation, Conv2D, Conv2DTranspose, Flatten, Dense, Reshape\n",
        "from keras.models import Model\n",
        "from keras.datasets import mnist\n",
        "from keras.losses import mse, binary_crossentropy\n",
        "from keras.utils import plot_model\n",
        "from keras import backend as K\n",
        "from keras.models import load_model\n",
        "\n",
        "import numpy as nps\n",
        "import matplotlib.pyplot as plt\n",
        "import os\n",
        "# Main cell to run\n",
        "from google.colab import drive\n",
        "drive.mount('/content/drive')"
      ],
      "execution_count": 7,
      "outputs": [
        {
          "output_type": "stream",
          "text": [
            "Drive already mounted at /content/drive; to attempt to forcibly remount, call drive.mount(\"/content/drive\", force_remount=True).\n"
          ],
          "name": "stdout"
        }
      ]
    },
    {
      "cell_type": "code",
      "metadata": {
        "id": "LXjjzu61Cc9A",
        "colab_type": "code",
        "colab": {}
      },
      "source": [
        "# Implement VAE here\n",
        "\n",
        "class VAE():\n",
        "  image_shape = (80, 60, 3)\n",
        "\n",
        "  def __init__(self, load=False, encoder_h5=None, \n",
        "               decoder_h5=None):\n",
        "    # Build encoder\n",
        "    # Adopted from https://github.com/YongWookHa/VAE-Keras/blob/master/VAE.py\n",
        "\n",
        "    if load:\n",
        "      print(\"Loading model from h5...\")\n",
        "      self.load_model(encoder_h5, layer_ = 'encoder')\n",
        "      self.load_model(decoder_h5, layer_ = 'decoder')\n",
        "\n",
        "    else:\n",
        "      print(\"Creating model architecture...\")\n",
        "      # self.encoder_inputs = Input(shape=self.image_shape)\n",
        "      # filter_dim = 128\n",
        "      # x = self.encoder_inputs\n",
        "      # x = Conv2D(int(filter_dim/16), kernel_size=(2,2), strides=(2,2), padding='SAME')(x)\n",
        "      # x = BatchNormalization()(x)\n",
        "      # x = LeakyReLU(0.2)(x)\n",
        "      # x = Conv2D(int(filter_dim/8), kernel_size=(2,2), strides=(2,2), padding='SAME')(x)\n",
        "      # x = BatchNormalization()(x)\n",
        "      # x = LeakyReLU(0.2)(x)\n",
        "      # x = Conv2D(int(filter_dim/4), kernel_size=(2,2), strides=(2,2), padding='SAME')(x)\n",
        "      # x = BatchNormalization()(x)\n",
        "      # x = LeakyReLU(0.2)(x)\n",
        "      # x = Conv2D(int(filter_dim/2), kernel_size=(2,2), strides=(2,2), padding='SAME')(x)\n",
        "      # x = BatchNormalization()(x)\n",
        "      # x = LeakyReLU(0.2)(x)\n",
        "      # x = Conv2D(filter_dim, kernel_size=(2,2), strides=(2,2), padding='SAME')(x)\n",
        "      # x = BatchNormalization()(x)\n",
        "      # x = LeakyReLU(0.2)(x)\n",
        "      # # x = GlobalAveragePooling2D()(x)\n",
        "\n",
        "      # enc_shape = K.int_shape(x)\n",
        "      # print(enc_shape)\n",
        "      # # generate latent vector Q(z|X)\n",
        "      # x = Flatten()(x)\n",
        "      # x = Dense(64)(x)\n",
        "      # x = LeakyReLU(0.2)(x)\n",
        "      # z_mean = Dense(z_dim, name='z_mean')(x)\n",
        "      # z_log_sigma = Dense(z_dim, name='z_log_sigma')(x)\n",
        "\n",
        "      # # use reparameterization trick to push the sampling out as input\n",
        "      # # note that \"output_shape\" isn't necessary with the TensorFlow backend\n",
        "      # z = Lambda(self.sampling, output_shape=(z_dim,), name='z')([z_mean, z_log_sigma])\n",
        "\n",
        "      # # instantiate encoder model\n",
        "      # self.encoder = Model(self.encoder_inputs, [z_mean, z_log_sigma, z], name='encoder')\n",
        "      # self.encoder.summary()\n",
        "      # plot_model(self.encoder, to_file='vae_cnn_encoder.png', show_shapes=True)\n",
        "\n",
        "      # # Decoder\n",
        "      # self.latent_inputs = Input(shape=(z_dim,), name='z_sampling')\n",
        "      # z = Dense(enc_shape[1] * enc_shape[2] * enc_shape[3], activation='relu')(self.latent_inputs)\n",
        "      # z = Reshape((enc_shape[1], enc_shape[2], enc_shape[3]))(z)\n",
        "      # z = Conv2DTranspose(int(filter_dim/2), kernel_size=(1, 2), strides=(2,1), padding='same')(z)\n",
        "      # z = BatchNormalization()(z)\n",
        "      # z = Activation('relu')(z)\n",
        "      # z = Conv2DTranspose(int(filter_dim/4), kernel_size=(2,2), strides=(2,2), padding='same')(z)\n",
        "      # z = BatchNormalization()(z)\n",
        "      # z = Activation('relu')(z)\n",
        "      # z = Conv2DTranspose(int(filter_dim/8), kernel_size=(2,1), strides=(2,2), padding='same')(z)\n",
        "      # z = BatchNormalization()(z)\n",
        "      # z = Activation('relu')(z)\n",
        "      # z = Conv2DTranspose(int(filter_dim/16), kernel_size=(2,2), strides=(2,2), padding='same')(z)\n",
        "      # z = BatchNormalization()(z)\n",
        "      # z = Activation('relu')(z)\n",
        "      # z = Conv2DTranspose(3, kernel_size=(2,2), strides=(2,2), padding='same')(z)\n",
        "      # decoder_output = Activation('tanh')(z)\n",
        "\n",
        "      # # instantiate decoder model\n",
        "      # self.decoder = Model(self.latent_inputs, decoder_output, name='decoder')\n",
        "      # self.decoder.summary()\n",
        "      # plot_model(self.decoder, to_file='vae_cnn_decoder.png', show_shapes=True)\n",
        "\n",
        "      # # instantiate VAE model\n",
        "      # outputs = self.decoder(self.encoder(self.encoder_inputs)[2])\n",
        "      # self.vae = Model(self.encoder_inputs, outputs, name='vae')\n",
        "      # self.vae.summary()\n",
        "\n",
        "      #### Meryl Version modified\n",
        "      z_dim = 10\n",
        "      kernel_size = 2\n",
        "      latent_dim = 10\n",
        "      filter_dims = [8, 16, 32]\n",
        "      filter_decoder = [32, 16, 8]\n",
        "      \n",
        "      self.inputs = Input(shape=self.image_shape, name='encoder_input')\n",
        "      x = self.inputs\n",
        "      for i in range(2):\n",
        "        filters = filter_dims[i]\n",
        "        x = Conv2D(filters=filters,\n",
        "                  kernel_size=kernel_size,\n",
        "                  strides=2,\n",
        "                  padding='same')(x)\n",
        "        x = BatchNormalization()(x)\n",
        "        x = LeakyReLU(0.2)(x)\n",
        "\n",
        "      # shape info needed to build decoder model\n",
        "      shape = K.int_shape(x)\n",
        "\n",
        "      # generate latent vector Q(z|X)\n",
        "      x = Flatten()(x)\n",
        "      x = Dense(64, activation='relu')(x)\n",
        "      z_mean = Dense(latent_dim, name='z_mean')(x)\n",
        "      z_log_sigma = Dense(latent_dim, name='z_log_sigma')(x)\n",
        "\n",
        "      # use reparameterization trick to push the sampling out as input\n",
        "      # note that \"output_shape\" isn't necessary with the TensorFlow backend\n",
        "      z = Lambda(self.sampling, output_shape=(latent_dim,), name='z')([z_mean, z_log_sigma])\n",
        "\n",
        "      # instantiate encoder model\n",
        "      self.encoder = Model(self.inputs, [z_mean, z_log_sigma, z], name='encoder')\n",
        "      self.encoder.summary()\n",
        "      plot_model(self.encoder, to_file='vae_cnn_encoder.png', show_shapes=True)\n",
        "\n",
        "      # build decoder model\n",
        "      self.latent_inputs = Input(shape=(latent_dim,), name='z_sampling')\n",
        "      x = Dense(shape[1] * shape[2] * shape[3], activation='relu')(self.latent_inputs)\n",
        "      x = Reshape((shape[1], shape[2], shape[3]))(x)\n",
        "\n",
        "      for i in range(2):\n",
        "        filters = filter_decoder[i]\n",
        "        x = Conv2DTranspose(filters=filters,\n",
        "                            kernel_size=kernel_size,\n",
        "                            strides=2,\n",
        "                            padding='same')(x)\n",
        "        x = BatchNormalization()(x)\n",
        "        x = Activation('relu')(x)\n",
        "\n",
        "      outputs = Conv2DTranspose(filters=3,\n",
        "                                kernel_size=kernel_size,\n",
        "                                activation='tanh',      # Changed to tanh because data preparation was geared to be [-1, 1]\n",
        "                                padding='same',\n",
        "                                name='decoder_output')(x)\n",
        "\n",
        "      # instantiate decoder model\n",
        "      self.decoder = Model(self.latent_inputs, outputs, name='decoder')\n",
        "      self.decoder.summary()\n",
        "      plot_model(self.decoder, to_file='vae_cnn_decoder.png', show_shapes=True)\n",
        "\n",
        "      # instantiate VAE model\n",
        "      outputs = self.decoder(self.encoder(self.inputs)[2])\n",
        "      self.vae = Model(self.inputs, outputs, name='vae')\n",
        "      self.vae.summary()\n",
        "\n",
        "      # Construct the Loss function\n",
        "      # VAE loss = mse_loss or xent_loss + kl_loss\n",
        "\n",
        "      reconstruction_loss = mse(K.flatten(self.inputs), K.flatten(outputs))\n",
        "      # #reconstruction_loss = binary_crossentropy(K.flatten(self.encoder_inputs),\n",
        "      # #                                           K.flatten(outputs))\n",
        "\n",
        "      reconstruction_loss *= self.image_shape[0] * self.image_shape[1] * self.image_shape[2]\n",
        "      kl_loss = 1 + (z_log_sigma ** 2) - K.square(z_mean) - K.exp(z_log_sigma ** 2)\n",
        "      kl_loss = K.sum(kl_loss, axis=-1)\n",
        "      kl_loss *= -0.5\n",
        "      vae_loss = K.mean(reconstruction_loss + kl_loss)\n",
        "      # recon = K.sum(K.binary_crossentropy(K.flatten(outputs), K.flatten(self.encoder_inputs)), axis=1)\n",
        "      # kl = 0.5 * K.sum(K.exp(log_sigma) + K.square(mu) - 1. - log_sigma, axis=1)\n",
        "      # vae_loss = recon + kl\n",
        "      self.vae.add_loss(vae_loss)\n",
        "      # self.vae.metrics_tensors.append(reconstruction_loss)\n",
        "      # self.vae.metrics_names.append(\"val_loss\")\n",
        "      self.vae.compile(optimizer='adam')\n",
        "\n",
        "  def get_summary(layer_='vae'):\n",
        "    if layer_ == 'vae':\n",
        "      self.vae.summary()\n",
        "\n",
        "    elif layer == 'decoder':\n",
        "      self.decoder.summary()\n",
        "\n",
        "    else:\n",
        "      self.encoder.summary()\n",
        "  \n",
        "  def load_model(self, h5_file, layer_):\n",
        "    print(\"Loading h5 \", layer_)\n",
        "    if layer_ == 'encoder':\n",
        "      self.encoder = load_model(h5_file)\n",
        "    else:\n",
        "      self.decoder = load_model(h5_file)\n",
        "\n",
        "  def _fit(self, epochs, batch_size, x_train):\n",
        "    self.history = self.vae.fit(x_train,\n",
        "            epochs=epochs,\n",
        "            batch_size=batch_size,\n",
        "            verbose=1)\n",
        "    self.vae.save('vae_mnist.h5')\n",
        "    self.encoder.save('vae_encoder.h5')\n",
        "    self.decoder.save('vae_decoder.h5')\n",
        "\n",
        "  def get_history(self):\n",
        "    return self.history\n",
        "  \n",
        "  def plot_loss_function(self):\n",
        "    # Plot training & validation loss values\n",
        "    plt.plot(self.history.history['val_loss'])\n",
        "    plt.title('Model loss')\n",
        "    plt.ylabel('Loss')\n",
        "    plt.xlabel('Epoch')\n",
        "    plt.show()\n",
        "\n",
        "  def get_encoder_model(self):\n",
        "    return self.encoder\n",
        "  \n",
        "  def get_decoder_model(self):\n",
        "    return self.decoder\n",
        "  \n",
        "  def get_vae_model(self):\n",
        "    return self.vae\n",
        "  \n",
        "  # Sampling to be used in training\n",
        "  def sampling(self, args):\n",
        "    z_mean, z_log_sigma = args\n",
        "    batch = K.shape(z_mean)[0]\n",
        "    dim = K.int_shape(z_mean)[1]\n",
        "    # by default, random_normal has mean=0 and std=1.0\n",
        "    epsilon = K.random_normal(shape=(batch, dim))\n",
        "    return z_mean + K.exp(z_log_sigma / 2) * epsilon\n",
        "    # return z_mean + K.exp(0.5 * z_log_var) * epsilon\n"
      ],
      "execution_count": 0,
      "outputs": []
    },
    {
      "cell_type": "code",
      "metadata": {
        "id": "2HeC6igzCyz1",
        "colab_type": "code",
        "colab": {}
      },
      "source": [
        "# ImageEncoder\n",
        "# After training VAE, create a new model based of the trained encoder\n",
        "# for encoding the image samples\n",
        "class ImageEncoder():\n",
        "  input_shape = (80, 60, 3)\n",
        "\n",
        "  def __init__(self, encoder, z_dim=10):\n",
        "    self.encoder = Model(\n",
        "        Input(shape=input_shape),\n",
        "        encoder)\n",
        "    self.epsilon = K.random_normal(shape=(z_dim, ))\n",
        "  \n",
        "  def _encode_sampled(self, input_image):\n",
        "    z_mean, z_log_sigma, z = self.encoder.predict(input_image)\n",
        "    # We only need z_mean and z_log_sigma\n",
        "    return z_mean + K.exp(z_log_sigma / 2) * epsilon\n",
        "    # return z_mean + K.exp(0.5 * z_log_var) * epsilon\n",
        "  \n",
        "  def _encode(self, input_image):\n",
        "    z_mean, z_log_sigma, z = self.encoder.predict(input_image)\n",
        "    return z_mean, z_log_sigma"
      ],
      "execution_count": 0,
      "outputs": []
    },
    {
      "cell_type": "code",
      "metadata": {
        "id": "uPN0BhEZC0IX",
        "colab_type": "code",
        "colab": {}
      },
      "source": [
        "#### HELPER FUNCTIONS\n",
        "import cv2\n",
        "import glob, os\n",
        "import pandas as pd\n",
        "from PIL import Image\n",
        "import numpy as np\n",
        "\n",
        "import imageio\n",
        "def read_imgs_to_np_from_folder(img_folder):\n",
        "  cwd = os.getcwd()\n",
        "\n",
        "  # os.chdir(img_folder + '/')\n",
        "\n",
        "  imgs = glob.glob(img_folder + '*.jpg')\n",
        "  # height,width = imageio.imread(imgs[0]).shape[:2]\n",
        "\n",
        "  X = []\n",
        "  count = 0\n",
        "  for f in imgs:\n",
        "    x = imageio.imread(f)\n",
        "\n",
        "    if len(x.shape) == 3 and x.shape[0] == 80 and x.shape[1] == 60 and x.shape[2] == 3:\n",
        "      x = x.astype(np.float32) / 255.0\n",
        "      X.append(x)\n",
        "      count += 1\n",
        "    if count % 10000 == 0:\n",
        "      print(\"Traversed \", count)\n",
        "    \n",
        "  X = np.array(X)\n",
        "  print(X.shape)\n",
        "  return X\n",
        "\n",
        "##### This function should be in the web-app (REMOVE once completed) ###########\n",
        "import math\n",
        "import numpy as np\n",
        "import operator\n",
        "# import pandas as pd\n",
        "\n",
        "# decoder_loaded_model = load_model('decoder.h5')\n",
        "\n",
        "def compute_log_likelihood(z_gen, mu_, log_sigma):\n",
        "  # (zi−μi(x))22σi(x)2\n",
        "  # Adopted here https://datascience.stackexchange.com/questions/64097/how-to-use-variational-autoencoders-%CE%BC-and-%CF%83-with-user-generated-z/64163#64163\n",
        "  term_a = (z_gen - mu_) ** 2\n",
        "  term_b = 2 * (log_sigma ** 2)\n",
        "  term_c = -1 * (term_a / term_b)\n",
        "\n",
        "  # −log(2π−−√σi(x))\n",
        "  term_d = np.log(((2 * np.pi) ** 0.5) * (log_sigma))\n",
        "  term_e = term_c - term_d\n",
        "\n",
        "  likelihood = np.sum(term_e)\n",
        "  return likelihood\n",
        "\n",
        "def find_nearest(z_var_generated):\n",
        "  # SQL Query get all of those needed and store to dataframe\n",
        "  # Do Query here\n",
        "  z_dim = len(z_var_generated)\n",
        "  z_var_generated = np.array(z_var_generated) # Convert to numpy\n",
        "\n",
        "  ids_ = sql_df['id'].to_list()\n",
        "  df = sql_df[['mu_1', 'mu_2', 'mu_3', 'mu_4', 'mu_5', \n",
        "               'mu_6', 'mu_7', 'mu_8', 'mu_9', 'mu_10',\n",
        "               'log_sigma_1', 'log_sigma_2', 'log_sigma_3', 'log_sigma_4', 'log_sigma_5',\n",
        "               'log_sigma_6', 'log_sigma_7', 'log_sigma_8', 'log_sigma_9', 'log_sigma_10']]\n",
        "  \n",
        "  datapoints_encoded_in_db = df.to_numpy()\n",
        "  rows = datapoints_encoded_in_db.shape[1]\n",
        "\n",
        "  likelihoods = {}\n",
        "\n",
        "  counter = 0\n",
        "  for data in rows:\n",
        "    mu_vector = data[:z_dim]\n",
        "    sigma_vector = data[z_dim:z_dim*2]\n",
        "    log_likelihood = compute_log_likelihood(z_var_generated,\n",
        "                                            mu_vector, log_sigma_vector)\n",
        "    likelihoods[id_s[counter]] = log_likelihood\n",
        "    counter += 1\n",
        "\n",
        "  # Sort dictionary by likelihood\n",
        "  sorted_x = sorted(likelihoods.items(), key=operator.itemgetter(1))\n",
        "\n",
        "  # return top three descending\n",
        "  return sorted_x[0], sorted_x[1], sorted_x[2]\n",
        "\n",
        "def decode_img(z_var_generated):\n",
        "  img = decoder_loaded_model.predict(z_var_generated)\n",
        "  return img\n",
        "\n",
        "##########Functions above are to be used inside the web-app locally hosted #########3\n",
        "\n",
        "# Function to use ENCODER and ENCODE datapoints to database\n",
        "# Could be run on Colab or PC with GPU/Keras\n",
        "import sqlite3\n",
        "def encode_img_from_folder_to_db(folder, db, encoder):\n",
        "  try:\n",
        "    conn = sqlite3.connect(db)\n",
        "  except Error as e:\n",
        "    print(e)\n",
        "\n",
        "  conn = self.create_connection(database)\n",
        "\n",
        "  sql = '''\n",
        "          SELECT id, image_id\n",
        "          FROM appchemy_apparel_dummy\n",
        "        '''\n",
        "\n",
        "  products_df = pd.read_sql_query(sql, conn)\n",
        "  image_ids = products_df['image_id'].to_list()\n",
        "\n",
        "  cwd = os.getcwd()\n",
        "  img_folder = folder + '/'\n",
        "\n",
        "  cur = conn.cursor()\n",
        "  os.chdir(img_folder)\n",
        "\n",
        "  for index, image_id in enumerate(image_ids):\n",
        "    img_name = str(image_id) + '.jpg'\n",
        "    \n",
        "    try:\n",
        "        img = cv2.imread(img_name, mode='RGB')\n",
        "        if img.shape() == (80, 60, 3):\n",
        "          mu_, log_sigma_ = encoder.__encode(img)      # change if either to store z or mu and log_var\n",
        "\n",
        "          # Update in db\n",
        "          sql = '''\n",
        "                UPDATE appchemy_apparel_dummy SET\n",
        "                mu_1 = {}, mu_2 = {}, mu_3 = {}, mu_4 = {}, mu_5 = {}, \n",
        "                mu_6 = {}, mu_7 = {}, mu_8 = {}, mu_9 = {}, mu_10 = {},\n",
        "                log_sigma_1 = {}, log_sigma_2 = {}, log_sigma_3 = {}, \n",
        "                log_sigma_4 = {}, log_sigma_5 = {}, log_sigma_6 = {}, \n",
        "                log_sigma_7 = {}, log_sigma_8 = {}, log_sigma_9 = {}, log_sigma_10 = {}\n",
        "                WHERE id = {}\n",
        "              '''.format(mu_[0], mu_[1], mu_[2], mu_[3], mu_[4], mu_[5], \n",
        "                         mu_[6], mu_[7], mu_[8], mu_[9], \n",
        "                         log_sigma_[0], log_sigma_[1], log_sigma_[2], log_sigma_[3], log_sigma_[4], \n",
        "                         log_sigma_[5], log_sigma_[6], log_sigma_[7], log_sigma_[8], log_sigma_[9],\n",
        "                         image_id)\n",
        "          cur.execute(sql)\n",
        "          if index % 200 == 0:\n",
        "            conn.commit()\n",
        "          print(\"File not 80x60x3: \", img_name)\n",
        "    except:\n",
        "      print(\"Error reading file: \", img_name)\n",
        "      continue\n",
        "\n",
        "  conn.commit()\n",
        "  conn.close()\n"
      ],
      "execution_count": 0,
      "outputs": []
    },
    {
      "cell_type": "code",
      "metadata": {
        "id": "c4ChmZS4OkGA",
        "colab_type": "code",
        "colab": {}
      },
      "source": [
        "!chmod 600 '/content/drive/My Drive/ee298/dataset.tar.xz'\n",
        "!cp '/content/drive/My Drive/ee298/dataset.tar.xz' '/content/data_im/'"
      ],
      "execution_count": 0,
      "outputs": []
    },
    {
      "cell_type": "code",
      "metadata": {
        "id": "ISCuJzjvPT-1",
        "colab_type": "code",
        "colab": {}
      },
      "source": [
        "!tar -xf '/content/data_im/dataset.tar.xz'"
      ],
      "execution_count": 0,
      "outputs": []
    },
    {
      "cell_type": "code",
      "metadata": {
        "id": "Kct5vlU4iuY1",
        "colab_type": "code",
        "outputId": "136bb5a1-12a8-4c3c-83df-85d49c4d318c",
        "colab": {
          "base_uri": "https://localhost:8080/",
          "height": 191
        }
      },
      "source": [
        "x_train = read_imgs_to_np_from_folder('/content/apparel_reduced/')"
      ],
      "execution_count": 11,
      "outputs": [
        {
          "output_type": "stream",
          "text": [
            "Traversed  10000\n",
            "Traversed  20000\n",
            "Traversed  30000\n",
            "Traversed  40000\n",
            "Traversed  50000\n",
            "Traversed  60000\n",
            "Traversed  70000\n",
            "Traversed  80000\n",
            "Traversed  90000\n",
            "(92013, 80, 60, 3)\n"
          ],
          "name": "stdout"
        }
      ]
    },
    {
      "cell_type": "code",
      "metadata": {
        "id": "mgYvZ3WOrMmp",
        "colab_type": "code",
        "outputId": "43a18e44-e208-4728-f7bd-2b33ee020a3f",
        "colab": {
          "base_uri": "https://localhost:8080/",
          "height": 1000
        }
      },
      "source": [
        "def sampling(args):\n",
        "    z_mean, z_log_sigma = args\n",
        "    batch = K.shape(z_mean)[0]\n",
        "    dim = K.int_shape(z_mean)[1]\n",
        "    # by default, random_normal has mean=0 and std=1.0\n",
        "    epsilon = K.random_normal(shape=(batch, dim))\n",
        "    return z_mean + K.exp(z_log_sigma / 2) * epsilon\n",
        "\n",
        "z_dim = 20\n",
        "kernel_size = 2\n",
        "latent_dim = 20\n",
        "filter_dims = [16, 32, 64]\n",
        "filter_decoder = [64, 32, 16]\n",
        "image_shape = (80, 60, 3)\n",
        "epochs = 5\n",
        "batch_size=32\n",
        "from keras import layers, initializers\n",
        "from keras.callbacks import EarlyStopping\n",
        "\n",
        "inputs = Input(shape=image_shape, name='encoder_input')\n",
        "x = inputs\n",
        "for i in range(2):\n",
        "  filters = filter_dims[i]\n",
        "  x = Conv2D(filters=filters,\n",
        "            kernel_size=kernel_size,\n",
        "            strides=2,\n",
        "            padding='same')(x)\n",
        "  x = BatchNormalization()(x)\n",
        "  x = LeakyReLU(0.2)(x)\n",
        "\n",
        "# shape info needed to build decoder model\n",
        "shape = K.int_shape(x)\n",
        "\n",
        "# generate latent vector Q(z|X)\n",
        "x = Flatten()(x)\n",
        "x = Dense(64, activation='relu')(x)\n",
        "z_mean = Dense(latent_dim, name='z_mean')(x)\n",
        "z_log_sigma = Dense(latent_dim, name='z_log_sigma',\n",
        "      kernel_initializer='random_uniform',\n",
        "      bias_initializer=initializers.Constant(0.1))(x)\n",
        "\n",
        "# use reparameterization trick to push the sampling out as input\n",
        "# note that \"output_shape\" isn't necessary with the TensorFlow backend\n",
        "z = Lambda(sampling, output_shape=(latent_dim,), name='z')([z_mean, z_log_sigma])\n",
        "\n",
        "# instantiate encoder model\n",
        "encoder = Model(inputs, [z_mean, z_log_sigma, z], name='encoder')\n",
        "encoder.summary()\n",
        "plot_model(encoder, to_file='vae_cnn_encoder.png', show_shapes=True)\n",
        "\n",
        "# build decoder model\n",
        "latent_inputs = Input(shape=(latent_dim,), name='z_sampling')\n",
        "x = Dense(64, activation='relu')(latent_inputs)\n",
        "x = Dense(shape[1] * shape[2] * shape[3], activation='relu')(x)\n",
        "x = Reshape((shape[1], shape[2], shape[3]))(x)\n",
        "\n",
        "for i in range(2):\n",
        "  filters = filter_decoder[i]\n",
        "  x = Conv2DTranspose(filters=filters,\n",
        "                      kernel_size=kernel_size,\n",
        "                      strides=2,\n",
        "                      padding='same')(x)\n",
        "  x = BatchNormalization()(x)\n",
        "  x = Activation('relu')(x)\n",
        "\n",
        "outputs = Conv2DTranspose(filters=3,\n",
        "                          kernel_size=kernel_size,\n",
        "                          activation='sigmoid',\n",
        "                          padding='same',\n",
        "                          name='decoder_output')(x)\n",
        "\n",
        "# instantiate decoder model\n",
        "decoder = Model(latent_inputs, outputs, name='decoder')\n",
        "decoder.summary()\n",
        "plot_model(decoder, to_file='vae_cnn_decoder.png', show_shapes=True)\n",
        "\n",
        "# instantiate VAE model\n",
        "outputs = decoder(encoder(inputs)[2])\n",
        "vae = Model(inputs, outputs, name='vae')\n",
        "vae.summary()\n",
        "\n",
        "# Construct the Loss function\n",
        "# VAE loss = mse_loss or xent_loss + kl_loss\n",
        "\n",
        "# reconstruction_loss = mse(K.flatten(inputs), K.flatten(outputs))\n",
        "reconstruction_loss = binary_crossentropy(K.flatten(inputs),\n",
        "                                           K.flatten(outputs))\n",
        "\n",
        "reconstruction_loss *= image_shape[0] * image_shape[1] * image_shape[2]\n",
        "# reconstruction_loss = K.sum(reconstruction_loss)\n",
        "kl_loss = 1 + (z_log_sigma) - K.square(z_mean) - K.exp(z_log_sigma)\n",
        "kl_loss = K.sum(kl_loss, axis=-1)\n",
        "kl_loss *= -0.5\n",
        "vae_loss = K.mean(reconstruction_loss + kl_loss)\n",
        "\n",
        "# recon = K.sum(K.binary_crossentropy(K.flatten(inputs), K.flatten(outputs)))\n",
        "# kl = 0.5 * K.sum(K.exp(z_log_sigma) + K.square(z_mean) - 1. - z_log_sigma, axis=1)\n",
        "# vae_loss = recon + kl\n",
        "\n",
        "# vae.metrics_tensors.append(reconstruction_loss)\n",
        "# vae.metrics_names.append(\"val_loss\")\n",
        "\n",
        "# translate our loss into Keras code\n",
        "# def vae_loss(y_true, y_pred):\n",
        "#     \"\"\" Calculate loss = reconstruction loss + KL loss for each data in minibatch \"\"\"\n",
        "#     recon = K.sum(K.binary_crossentropy(y_true, y_pred))\n",
        "#     kl = 0.5 * K.sum(K.exp(z_log_sigma) + K.square(z_mean) - 1. - z_log_sigma, axis=1)\n",
        "#     return recon + kl\n",
        "vae.add_loss(vae_loss)\n",
        "es = EarlyStopping(monitor='vae_loss', mode='min', verbose=1, patience=20)\n",
        "vae.compile(optimizer='adam')\n",
        "\n",
        "history = vae.fit(x_train,\n",
        "            epochs=epochs,\n",
        "            batch_size=batch_size,\n",
        "            verbose=1)\n",
        "vae.save('vae_mnist2.h5')\n",
        "encoder.save('vae_encoder2.h5')\n",
        "decoder.save('vae_decoder2.h5')\n",
        "\n",
        "plt.plot(history.history['loss'])\n",
        "plt.title('Model loss')\n",
        "plt.ylabel('Loss')\n",
        "plt.xlabel('Epoch')\n",
        "plt.show()\n",
        "\n",
        "# plt.plot(history.history['accuracy'])\n",
        "# plt.title('Model Acc')\n",
        "# plt.ylabel('Acc')\n",
        "# plt.xlabel('Epoch')\n",
        "# plt.show()"
      ],
      "execution_count": 20,
      "outputs": [
        {
          "output_type": "stream",
          "text": [
            "Model: \"encoder\"\n",
            "__________________________________________________________________________________________________\n",
            "Layer (type)                    Output Shape         Param #     Connected to                     \n",
            "==================================================================================================\n",
            "encoder_input (InputLayer)      (None, 80, 60, 3)    0                                            \n",
            "__________________________________________________________________________________________________\n",
            "conv2d_11 (Conv2D)              (None, 40, 30, 16)   208         encoder_input[0][0]              \n",
            "__________________________________________________________________________________________________\n",
            "batch_normalization_21 (BatchNo (None, 40, 30, 16)   64          conv2d_11[0][0]                  \n",
            "__________________________________________________________________________________________________\n",
            "leaky_re_lu_11 (LeakyReLU)      (None, 40, 30, 16)   0           batch_normalization_21[0][0]     \n",
            "__________________________________________________________________________________________________\n",
            "conv2d_12 (Conv2D)              (None, 20, 15, 32)   2080        leaky_re_lu_11[0][0]             \n",
            "__________________________________________________________________________________________________\n",
            "batch_normalization_22 (BatchNo (None, 20, 15, 32)   128         conv2d_12[0][0]                  \n",
            "__________________________________________________________________________________________________\n",
            "leaky_re_lu_12 (LeakyReLU)      (None, 20, 15, 32)   0           batch_normalization_22[0][0]     \n",
            "__________________________________________________________________________________________________\n",
            "flatten_6 (Flatten)             (None, 9600)         0           leaky_re_lu_12[0][0]             \n",
            "__________________________________________________________________________________________________\n",
            "dense_16 (Dense)                (None, 64)           614464      flatten_6[0][0]                  \n",
            "__________________________________________________________________________________________________\n",
            "z_mean (Dense)                  (None, 20)           1300        dense_16[0][0]                   \n",
            "__________________________________________________________________________________________________\n",
            "z_log_sigma (Dense)             (None, 20)           1300        dense_16[0][0]                   \n",
            "__________________________________________________________________________________________________\n",
            "z (Lambda)                      (None, 20)           0           z_mean[0][0]                     \n",
            "                                                                 z_log_sigma[0][0]                \n",
            "==================================================================================================\n",
            "Total params: 619,544\n",
            "Trainable params: 619,448\n",
            "Non-trainable params: 96\n",
            "__________________________________________________________________________________________________\n",
            "Model: \"decoder\"\n",
            "_________________________________________________________________\n",
            "Layer (type)                 Output Shape              Param #   \n",
            "=================================================================\n",
            "z_sampling (InputLayer)      (None, 20)                0         \n",
            "_________________________________________________________________\n",
            "dense_17 (Dense)             (None, 64)                1344      \n",
            "_________________________________________________________________\n",
            "dense_18 (Dense)             (None, 9600)              624000    \n",
            "_________________________________________________________________\n",
            "reshape_6 (Reshape)          (None, 20, 15, 32)        0         \n",
            "_________________________________________________________________\n",
            "conv2d_transpose_11 (Conv2DT (None, 40, 30, 64)        8256      \n",
            "_________________________________________________________________\n",
            "batch_normalization_23 (Batc (None, 40, 30, 64)        256       \n",
            "_________________________________________________________________\n",
            "activation_11 (Activation)   (None, 40, 30, 64)        0         \n",
            "_________________________________________________________________\n",
            "conv2d_transpose_12 (Conv2DT (None, 80, 60, 32)        8224      \n",
            "_________________________________________________________________\n",
            "batch_normalization_24 (Batc (None, 80, 60, 32)        128       \n",
            "_________________________________________________________________\n",
            "activation_12 (Activation)   (None, 80, 60, 32)        0         \n",
            "_________________________________________________________________\n",
            "decoder_output (Conv2DTransp (None, 80, 60, 3)         387       \n",
            "=================================================================\n",
            "Total params: 642,595\n",
            "Trainable params: 642,403\n",
            "Non-trainable params: 192\n",
            "_________________________________________________________________\n",
            "Model: \"vae\"\n",
            "_________________________________________________________________\n",
            "Layer (type)                 Output Shape              Param #   \n",
            "=================================================================\n",
            "encoder_input (InputLayer)   (None, 80, 60, 3)         0         \n",
            "_________________________________________________________________\n",
            "encoder (Model)              [(None, 20), (None, 20),  619544    \n",
            "_________________________________________________________________\n",
            "decoder (Model)              (None, 80, 60, 3)         642595    \n",
            "=================================================================\n",
            "Total params: 1,262,139\n",
            "Trainable params: 1,261,851\n",
            "Non-trainable params: 288\n",
            "_________________________________________________________________\n",
            "Epoch 1/5\n",
            "92013/92013 [==============================] - 88s 952us/step - loss: 2965.5700\n",
            "Epoch 2/5\n",
            "92013/92013 [==============================] - 85s 922us/step - loss: 2779.3824\n",
            "Epoch 3/5\n",
            "92013/92013 [==============================] - 85s 920us/step - loss: 2747.0702\n",
            "Epoch 4/5\n",
            "92013/92013 [==============================] - 85s 920us/step - loss: 2729.6281\n",
            "Epoch 5/5\n",
            "92013/92013 [==============================] - 85s 924us/step - loss: 2717.9069\n"
          ],
          "name": "stdout"
        },
        {
          "output_type": "display_data",
          "data": {
            "image/png": "[encoded data removed]",
            "text/plain": [
              "<Figure size 432x288 with 1 Axes>"
            ]
          },
          "metadata": {
            "tags": []
          }
        }
      ]
    },
    {
      "cell_type": "code",
      "metadata": {
        "id": "JMijsP_Lxzgw",
        "colab_type": "code",
        "outputId": "80aec076-5f62-48f6-961e-aab215976cd4",
        "colab": {
          "base_uri": "https://localhost:8080/",
          "height": 320
        }
      },
      "source": [
        "imgs = glob.glob('/content/apparel_reduced/' + '*.jpg')\n",
        "img_1 = imgs[0]\n",
        "print(img_1)\n",
        "x = imageio.imread(img_1)\n",
        "x = x.astype(np.float32) / 255.0\n",
        "x = np.reshape(x, [-1, 80, 60, 3])\n",
        "print(x[0].shape)\n",
        "out_vae = vae.predict(x)\n",
        "plt.imshow(out_vae[0])"
      ],
      "execution_count": 22,
      "outputs": [
        {
          "output_type": "stream",
          "text": [
            "/content/apparel_reduced/70666.jpg\n",
            "(80, 60, 3)\n"
          ],
          "name": "stdout"
        },
        {
          "output_type": "execute_result",
          "data": {
            "text/plain": [
              "<matplotlib.image.AxesImage at 0x7fb5ae1336d8>"
            ]
          },
          "metadata": {
            "tags": []
          },
          "execution_count": 22
        },
        {
          "output_type": "display_data",
          "data": {
            "image/png": "[encoded data removed]",
            "text/plain": [
              "<Figure size 432x288 with 1 Axes>"
            ]
          },
          "metadata": {
            "tags": []
          }
        }
      ]
    },
    {
      "cell_type": "code",
      "metadata": {
        "id": "lYxC1HLZv7mD",
        "colab_type": "code",
        "colab": {
          "base_uri": "https://localhost:8080/",
          "height": 303
        },
        "outputId": "aedd0bfb-7110-4935-8186-eea59d9bc625"
      },
      "source": [
        "img_1 = imgs[100]\n",
        "x = imageio.imread(img_1)\n",
        "x = x.astype(np.float32) / 255.0\n",
        "x = np.reshape(x, [-1, 80, 60, 3])\n",
        "print(x[0].shape)\n",
        "out_vae = vae.predict(x)\n",
        "plt.imshow(out_vae[0])"
      ],
      "execution_count": 23,
      "outputs": [
        {
          "output_type": "stream",
          "text": [
            "(80, 60, 3)\n"
          ],
          "name": "stdout"
        },
        {
          "output_type": "execute_result",
          "data": {
            "text/plain": [
              "<matplotlib.image.AxesImage at 0x7fb5ae2203c8>"
            ]
          },
          "metadata": {
            "tags": []
          },
          "execution_count": 23
        },
        {
          "output_type": "display_data",
          "data": {
            "image/png": "[encoded data removed]",
            "text/plain": [
              "<Figure size 432x288 with 1 Axes>"
            ]
          },
          "metadata": {
            "tags": []
          }
        }
      ]
    },
    {
      "cell_type": "code",
      "metadata": {
        "id": "uqL2fXG1wG12",
        "colab_type": "code",
        "outputId": "3448fe02-cd69-498a-9dcc-41f97d049e04",
        "colab": {
          "base_uri": "https://localhost:8080/",
          "height": 303
        }
      },
      "source": [
        "img_1 = imgs[1000]\n",
        "x = imageio.imread(img_1)\n",
        "x = x.astype(np.float32) / 255.0\n",
        "x = np.reshape(x, [-1, 80, 60, 3])\n",
        "print(x[0].shape)\n",
        "out_vae = vae.predict(x)\n",
        "plt.imshow(out_vae[0])"
      ],
      "execution_count": 24,
      "outputs": [
        {
          "output_type": "stream",
          "text": [
            "(80, 60, 3)\n"
          ],
          "name": "stdout"
        },
        {
          "output_type": "execute_result",
          "data": {
            "text/plain": [
              "<matplotlib.image.AxesImage at 0x7fb61666a390>"
            ]
          },
          "metadata": {
            "tags": []
          },
          "execution_count": 24
        },
        {
          "output_type": "display_data",
          "data": {
            "image/png": "[encoded data removed]",
            "text/plain": [
              "<Figure size 432x288 with 1 Axes>"
            ]
          },
          "metadata": {
            "tags": []
          }
        }
      ]
    },
    {
      "cell_type": "code",
      "metadata": {
        "id": "mOJdoUuvwplO",
        "colab_type": "code",
        "outputId": "b657644f-6d2c-4137-ee55-58a932761b1f",
        "colab": {
          "base_uri": "https://localhost:8080/",
          "height": 104
        }
      },
      "source": [
        "z_fake = np.random.normal(size=(20,))\n",
        "print(z_fake.shape)\n",
        "print(z_fake.reshape(-1, 10))"
      ],
      "execution_count": 27,
      "outputs": [
        {
          "output_type": "stream",
          "text": [
            "(20,)\n",
            "[[-0.73064007  0.77401613  1.67968952 -1.54001122  0.93687507 -1.34876598\n",
            "  -0.14189822 -0.27654709  0.6168042  -0.21228212]\n",
            " [ 0.55304146 -0.92944905  0.16454563 -0.05684331  0.50134312  0.24166479\n",
            "   1.37686977  1.48445735 -0.9749833   0.33519895]]\n"
          ],
          "name": "stdout"
        }
      ]
    },
    {
      "cell_type": "code",
      "metadata": {
        "id": "4jOhk274yYwy",
        "colab_type": "code",
        "colab": {}
      },
      "source": [
        "fake_predicted = decoder.predict(z_fake.reshape(-1, 20))"
      ],
      "execution_count": 0,
      "outputs": []
    },
    {
      "cell_type": "code",
      "metadata": {
        "id": "Xp1oyl6jyl_H",
        "colab_type": "code",
        "outputId": "c85ff0aa-550c-4db2-9e24-d13e29f73946",
        "colab": {
          "base_uri": "https://localhost:8080/",
          "height": 285
        }
      },
      "source": [
        "plt.imshow(fake_predicted[0])"
      ],
      "execution_count": 29,
      "outputs": [
        {
          "output_type": "execute_result",
          "data": {
            "text/plain": [
              "<matplotlib.image.AxesImage at 0x7fb61663aac8>"
            ]
          },
          "metadata": {
            "tags": []
          },
          "execution_count": 29
        },
        {
          "output_type": "display_data",
          "data": {
            "image/png": "[encoded data removed]",
            "text/plain": [
              "<Figure size 432x288 with 1 Axes>"
            ]
          },
          "metadata": {
            "tags": []
          }
        }
      ]
    },
    {
      "cell_type": "code",
      "metadata": {
        "id": "T2UQvXm_zFsA",
        "colab_type": "code",
        "colab": {}
      },
      "source": [
        ""
      ],
      "execution_count": 0,
      "outputs": []
    }
  ]
}